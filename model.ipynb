{
 "cells": [
  {
   "cell_type": "code",
   "execution_count": 21,
   "metadata": {},
   "outputs": [],
   "source": [
    "import os\n",
    "import pandas as pd\n",
    "import numpy as np \n",
    "import torch\n",
    "import cv2\n",
    "import torchvision"
   ]
  },
  {
   "cell_type": "code",
   "execution_count": 1,
   "metadata": {},
   "outputs": [],
   "source": [
    "IMAGE_PATH='./archive/dataset/semantic_drone_dataset/original_images/'\n",
    "LABELLED_IMAGES_PATH= './archive/dataset/semantic_drone_dataset/label_images_semantic/'"
   ]
  },
  {
   "cell_type": "markdown",
   "metadata": {},
   "source": [
    "#Dataset Creation"
   ]
  },
  {
   "cell_type": "code",
   "execution_count": 13,
   "metadata": {},
   "outputs": [],
   "source": [
    "#function to add the images to a pandas dataframe\n",
    "def create_image_dataframe():\n",
    "    \n",
    "    #all entries\n",
    "    all_entries = os.listdir(IMAGE_PATH)\n",
    "\n",
    "    files = []\n",
    "    #filter for the files\n",
    "    for entry in all_entries:\n",
    "        path = os.path.join(IMAGE_PATH, entry)\n",
    "        if os.path.isfile(path):\n",
    "            files.append(entry)\n",
    "\n",
    "    filenames = []\n",
    "    for file in files:\n",
    "        name = file.split(\".\")[0]\n",
    "        filenames.append(name)\n",
    "\n",
    "    \n",
    "    df = pd.DataFrame({'id': filenames}, index = np.arange(len(filenames)))\n",
    "    return df\n"
   ]
  },
  {
   "cell_type": "code",
   "execution_count": 15,
   "metadata": {},
   "outputs": [
    {
     "name": "stdout",
     "output_type": "stream",
     "text": [
      "We have a total of: 400 images\n"
     ]
    }
   ],
   "source": [
    "#create the dataframe of images\n",
    "image_dataframe = create_image_dataframe()\n",
    "print(\"We have a total of:\", len(image_dataframe), \"images\")\n"
   ]
  },
  {
   "cell_type": "code",
   "execution_count": 23,
   "metadata": {},
   "outputs": [],
   "source": [
    "#Dataset creation functions\n",
    "\n",
    "\n",
    "#loads an image from the image path\n",
    "def load_image(img_path):\n",
    "    img = cv2.imread(img_path)\n",
    "    img = cv2.cvtColor(img, cv2.COLOR_BGR2RGB)\n",
    "    return img\n",
    "\n",
    "#loads a mask from the mask path\n",
    "def load_mask(mask_path):\n",
    "    mask = cv2.imread(mask_path, cv2.IMREAD_GRAYSCALE)\n",
    "    return mask\n",
    "\n",
    "\n",
    "#apploies a transfromation to an image and its mask\n",
    "def apply_transformation(transform, img, mask):\n",
    "    transformed_image = transform(image=img, mask=mask)\n",
    "    img = Image.fromarray(transformed_image['image'])\n",
    "    mask = transformed_image['image']\n",
    "    return img, mask\n",
    "\n",
    "#applies normalization to an image and converts the mask to PyTorch tensor\n",
    "def apply_normalization(mean, std, img, mask):\n",
    "    transform = torchvision.transforms.Compose([torchvision.transforms.ToTensor(), torchvision.transforms.Normalize(mean, std)])\n",
    "    img = transform(img)\n",
    "    mask = torch.from_numpy(mask).long()\n",
    "    return img, mask\n"
   ]
  },
  {
   "cell_type": "code",
   "execution_count": null,
   "metadata": {},
   "outputs": [],
   "source": [
    "#Dataset creation"
   ]
  }
 ],
 "metadata": {
  "kernelspec": {
   "display_name": "Python 3",
   "language": "python",
   "name": "python3"
  },
  "language_info": {
   "codemirror_mode": {
    "name": "ipython",
    "version": 3
   },
   "file_extension": ".py",
   "mimetype": "text/x-python",
   "name": "python",
   "nbconvert_exporter": "python",
   "pygments_lexer": "ipython3",
   "version": "3.11.6"
  }
 },
 "nbformat": 4,
 "nbformat_minor": 2
}
