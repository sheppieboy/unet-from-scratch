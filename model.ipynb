{
 "cells": [
  {
   "cell_type": "code",
   "execution_count": 3,
   "metadata": {},
   "outputs": [],
   "source": [
    "import os\n",
    "import pandas as pd\n",
    "import numpy as np "
   ]
  },
  {
   "cell_type": "code",
   "execution_count": 1,
   "metadata": {},
   "outputs": [],
   "source": [
    "IMAGE_PATH='./archive/dataset/semantic_drone_dataset/original_images/'\n",
    "LABELLED_IMAGES_PATH= './archive/dataset/semantic_drone_dataset/label_images_semantic/'"
   ]
  },
  {
   "cell_type": "code",
   "execution_count": 13,
   "metadata": {},
   "outputs": [],
   "source": [
    "#function to add the images to a pandas dataframe\n",
    "def create_image_dataframe():\n",
    "    \n",
    "    #all entries\n",
    "    all_entries = os.listdir(IMAGE_PATH)\n",
    "\n",
    "    files = []\n",
    "    #filter for the files\n",
    "    for entry in all_entries:\n",
    "        path = os.path.join(IMAGE_PATH, entry)\n",
    "        if os.path.isfile(path):\n",
    "            files.append(entry)\n",
    "\n",
    "    filenames = []\n",
    "    for file in files:\n",
    "        name = file.split(\".\")[0]\n",
    "        filenames.append(name)\n",
    "\n",
    "    \n",
    "    df = pd.DataFrame({'id': filenames}, index = np.arange(len(filenames)))\n",
    "    return df\n"
   ]
  },
  {
   "cell_type": "code",
   "execution_count": 14,
   "metadata": {},
   "outputs": [
    {
     "name": "stdout",
     "output_type": "stream",
     "text": [
      "We have a total of:  400  images\n"
     ]
    }
   ],
   "source": [
    "#create the dataframe of images\n",
    "image_dataframe = create_image_dataframe()\n",
    "print(\"We have a total of:\", len(image_dataframe), \"images\")\n"
   ]
  }
 ],
 "metadata": {
  "kernelspec": {
   "display_name": "Python 3",
   "language": "python",
   "name": "python3"
  },
  "language_info": {
   "codemirror_mode": {
    "name": "ipython",
    "version": 3
   },
   "file_extension": ".py",
   "mimetype": "text/x-python",
   "name": "python",
   "nbconvert_exporter": "python",
   "pygments_lexer": "ipython3",
   "version": "3.11.6"
  }
 },
 "nbformat": 4,
 "nbformat_minor": 2
}
