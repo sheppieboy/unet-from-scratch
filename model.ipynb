{
 "cells": [
  {
   "cell_type": "code",
   "execution_count": null,
   "metadata": {},
   "outputs": [],
   "source": [
    "IMAGE_PATH='./archive/dataset/semantic_drone_dataset/original_images/'\n",
    "LABELLED_IMAGES_PATH= './archive/dataset/semantic_drone_dataset/label_images_semantic/'"
   ]
  }
 ],
 "metadata": {
  "language_info": {
   "name": "python"
  }
 },
 "nbformat": 4,
 "nbformat_minor": 2
}
